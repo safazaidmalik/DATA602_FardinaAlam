{
 "cells": [
  {
   "cell_type": "markdown",
   "metadata": {},
   "source": [
    "This assignment is intended to ensure that you are able to edit and submit Jupyter Notebooks. \n",
    "\n",
    "The goal is to write a function to count the frequency of different characters in a given string. For example: character_frequency('google') should return a `dict`: {'g': 2, 'o': 2, 'l': 1, 'e': 1}. \n",
    "\n",
    "There are many tutorials on the web that can show you how to use the Python data structures. Quite a few examples at: https://docs.python.org/3/tutorial/datastructures.html\n",
    "\n",
    "\n",
    "You should edit the function definition below, make sure to press 'Shift + Enter' to execute it, and then execute the two function calls to check that the output is correct."
   ]
  },
  {
   "cell_type": "code",
   "execution_count": null,
   "metadata": {
    "collapsed": true
   },
   "outputs": [],
   "source": [
    "def character_frequency(s):\n",
    "    ret = dict()\n",
    "    # for a string, count the frequency of each character\n",
    "    # check if character is already in the dictionary, if so increment its count\n",
    "    # otherwise add it to the dictionary and initialize it with count 1\n",
    "    # it takes .lower() to make it case insensitive, and counts spaces and punctuation as well\n",
    "    for c in s.lower():\n",
    "        if c in ret:\n",
    "            ret[c] += 1\n",
    "        else:\n",
    "            ret[c] = 1\n",
    "    return ret"
   ]
  },
  {
   "cell_type": "code",
   "execution_count": 7,
   "metadata": {},
   "outputs": [
    {
     "data": {
      "text/plain": [
       "{'g': 2, 'o': 2, 'l': 1, 'e': 1}"
      ]
     },
     "execution_count": 7,
     "metadata": {},
     "output_type": "execute_result"
    }
   ],
   "source": [
    "character_frequency('google')"
   ]
  },
  {
   "cell_type": "code",
   "execution_count": 8,
   "metadata": {},
   "outputs": [
    {
     "data": {
      "text/plain": [
       "{'t': 11,\n",
       " 'h': 2,\n",
       " 'i': 6,\n",
       " 's': 7,\n",
       " ' ': 15,\n",
       " 'a': 5,\n",
       " 'g': 1,\n",
       " 'n': 7,\n",
       " 'm': 2,\n",
       " 'e': 10,\n",
       " 'd': 4,\n",
       " 'o': 6,\n",
       " 'u': 4,\n",
       " 'r': 3,\n",
       " 'y': 2,\n",
       " 'b': 3,\n",
       " 'l': 1,\n",
       " 'j': 1,\n",
       " 'p': 1,\n",
       " 'k': 1,\n",
       " '.': 1}"
      ]
     },
     "execution_count": 8,
     "metadata": {},
     "output_type": "execute_result"
    }
   ],
   "source": [
    "character_frequency('This assignment is intended to ensure that you are able to edit and submit Jupyter Notebooks.')"
   ]
  },
  {
   "cell_type": "markdown",
   "metadata": {},
   "source": [
    "In Below, Provide GitHub Repository URL:"
   ]
  },
  {
   "cell_type": "markdown",
   "metadata": {},
   "source": [
    "https://github.com/safazaidmalik/DATA602_FardinaAlam.git"
   ]
  },
  {
   "cell_type": "markdown",
   "metadata": {},
   "source": [
    "In Below, GitHub Page URL:"
   ]
  },
  {
   "cell_type": "markdown",
   "metadata": {},
   "source": [
    "https://safazaidmalik.github.io/DATA602_FardinaAlam/"
   ]
  },
  {
   "cell_type": "markdown",
   "metadata": {},
   "source": [
    "Below, add the screenshots. You can include additional markdown or text cells if needed."
   ]
  },
  {
   "cell_type": "markdown",
   "metadata": {},
   "source": []
  },
  {
   "cell_type": "markdown",
   "metadata": {},
   "source": []
  },
  {
   "cell_type": "markdown",
   "metadata": {},
   "source": []
  },
  {
   "cell_type": "markdown",
   "metadata": {},
   "source": []
  }
 ],
 "metadata": {
  "kernelspec": {
   "display_name": "Python 3 (ipykernel)",
   "language": "python",
   "name": "python3"
  },
  "language_info": {
   "codemirror_mode": {
    "name": "ipython",
    "version": 3
   },
   "file_extension": ".py",
   "mimetype": "text/x-python",
   "name": "python",
   "nbconvert_exporter": "python",
   "pygments_lexer": "ipython3",
   "version": "3.13.7"
  }
 },
 "nbformat": 4,
 "nbformat_minor": 2
}
